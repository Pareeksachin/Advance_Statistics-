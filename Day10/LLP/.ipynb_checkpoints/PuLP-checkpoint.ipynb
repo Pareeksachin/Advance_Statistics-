{
 "cells": [
  {
   "cell_type": "code",
   "execution_count": 1,
   "id": "8e7cbdab",
   "metadata": {},
   "outputs": [],
   "source": [
    "# Linear Programming : Linear Programming (LP) is a mathematical optimization technique used to find the best\n",
    "#         possible solution to a problem with linear relationships\n",
    "\n"
   ]
  },
  {
   "cell_type": "code",
   "execution_count": 2,
   "id": "1dc5de00",
   "metadata": {},
   "outputs": [
    {
     "name": "stdout",
     "output_type": "stream",
     "text": [
      "Requirement already satisfied: pulp in c:\\users\\anonymous\\appdata\\local\\programs\\python\\python311\\lib\\site-packages (2.7.0)\n"
     ]
    },
    {
     "name": "stderr",
     "output_type": "stream",
     "text": [
      "\n",
      "[notice] A new release of pip available: 22.3.1 -> 23.1.2\n",
      "[notice] To update, run: python.exe -m pip install --upgrade pip\n"
     ]
    }
   ],
   "source": [
    "!pip install pulp"
   ]
  },
  {
   "cell_type": "code",
   "execution_count": 3,
   "id": "2be9531a",
   "metadata": {},
   "outputs": [],
   "source": [
    "import pulp as p "
   ]
  },
  {
   "cell_type": "markdown",
   "id": "01024b73",
   "metadata": {},
   "source": [
    "# Problem 1"
   ]
  },
  {
   "cell_type": "code",
   "execution_count": 4,
   "id": "eb6fd660",
   "metadata": {},
   "outputs": [],
   "source": [
    "#Maximization\n",
    "Lp_prob = p.LpProblem(\"Problem1\",p.LpMaximize)\n",
    "#  This line creates a new LP problem called 'Problem1' and specifies that it is a\n",
    "# --- maximization problem using p.LpMaximize. The LpProblem function is used to initialize the LP problem."
   ]
  },
  {
   "cell_type": "code",
   "execution_count": 5,
   "id": "ce8dd41c",
   "metadata": {},
   "outputs": [],
   "source": [
    "# Decision Variables \n",
    "x1= p.LpVariable(\"x1\",lowBound=0) # Create a variable x>=0\n",
    "x2 = p.LpVariable(\"x2\",lowBound = 0) # create a variable y >=0 "
   ]
  },
  {
   "cell_type": "code",
   "execution_count": 6,
   "id": "1e271e7e",
   "metadata": {},
   "outputs": [],
   "source": [
    "#Objective Function \n",
    "Lp_prob +=5*x1 + 7*x2\n",
    "\n",
    "# The line Lp_prob += objective_function adds the objective function to your linear programming problem (Lp_prob). By adding it to the \n",
    "# ----problem, you are indicating that you want to maximize this objective function during the optimization process."
   ]
  },
  {
   "cell_type": "code",
   "execution_count": 7,
   "id": "d569bd76",
   "metadata": {},
   "outputs": [],
   "source": [
    "#Constaints\n",
    "Lp_prob += 1*x1 + 0*x2 <=6\n",
    "Lp_prob += 2*x1 + 3*x2 <=19\n",
    "Lp_prob += 1*x1 + 1*x2 <=8\n",
    "\n",
    "# make Constraints and add each constraint to the linear programming problem (Lp_prob)."
   ]
  },
  {
   "cell_type": "code",
   "execution_count": 8,
   "id": "f60f034f",
   "metadata": {},
   "outputs": [
    {
     "name": "stdout",
     "output_type": "stream",
     "text": [
      "Problem1:\n",
      "MAXIMIZE\n",
      "5*x1 + 7*x2 + 0\n",
      "SUBJECT TO\n",
      "_C1: x1 <= 6\n",
      "\n",
      "_C2: 2 x1 + 3 x2 <= 19\n",
      "\n",
      "_C3: x1 + x2 <= 8\n",
      "\n",
      "VARIABLES\n",
      "x1 Continuous\n",
      "x2 Continuous\n",
      "\n"
     ]
    }
   ],
   "source": [
    "print(Lp_prob)"
   ]
  },
  {
   "cell_type": "code",
   "execution_count": 9,
   "id": "bd0faaea",
   "metadata": {},
   "outputs": [
    {
     "name": "stdout",
     "output_type": "stream",
     "text": [
      "Optimal\n"
     ]
    }
   ],
   "source": [
    "# Solving the LPP\n",
    "\n",
    "status = Lp_prob.solve()\n",
    "print(p.LpStatus[status])\n",
    "\n",
    "\n",
    "#The solve() method will solve the linear programming problem and return a status indicating the result. If the status is\n",
    "#---LpStatusOptimal, it means that an optimal solution has been found. In that case, you can access the optimal values of the\n",
    "#----decision variables using the value() function.\n",
    "\n",
    "# Optimal Solution : \n",
    "# optimal solution refers to the set of values for the decision variables that maximizes or minimizes the objective function while \n",
    "# ---satisfying all the constraints."
   ]
  },
  {
   "cell_type": "code",
   "execution_count": 10,
   "id": "936b85b4",
   "metadata": {},
   "outputs": [
    {
     "name": "stdout",
     "output_type": "stream",
     "text": [
      "x1 =  5.0\n",
      "x2 =  3.0\n",
      "Objective =  46.0\n"
     ]
    }
   ],
   "source": [
    "#Solution\n",
    "\n",
    "print(\"x1 = \",p.value(x1))\n",
    "print(\"x2 = \",p.value(x2))\n",
    "print(\"Objective = \",p.value(Lp_prob.objective))"
   ]
  },
  {
   "cell_type": "markdown",
   "id": "61ac530e",
   "metadata": {},
   "source": [
    "# Problem 2 "
   ]
  },
  {
   "cell_type": "markdown",
   "id": "63de4dde",
   "metadata": {},
   "source": [
    "A company that operates 10 hours a day manufactures\n",
    "two products on three sequential processes. The\n",
    "following table summarizes the data of the problem\n",
    "\n",
    "\n",
    "              Minutes per unit\n",
    "Product Process1 Process2 Process3 Unit_Profit\n",
    "1       10       6        8         Rs. 2/-\n",
    "2       5        20       10        Rs. 3/-\n",
    "\n",
    "Determine the optimal mix of the two products."
   ]
  },
  {
   "cell_type": "code",
   "execution_count": null,
   "id": "6b1c8107",
   "metadata": {},
   "outputs": [],
   "source": []
  },
  {
   "cell_type": "code",
   "execution_count": 11,
   "id": "0cacb7a7",
   "metadata": {},
   "outputs": [],
   "source": [
    "Lp_prob = p.LpProblem('Problem2',p.LpMaximize)"
   ]
  },
  {
   "cell_type": "code",
   "execution_count": 12,
   "id": "55b39406",
   "metadata": {},
   "outputs": [],
   "source": [
    "# Decision Variable\n",
    "\n",
    "x1 = p.LpVariable(\"x1\",lowBound = 0 )#create a variable x>=0\n",
    "x2 = p.LpVariable(\"x2\",lowBound = 0) # createa a variable y >=0\n",
    "x3 = p.LpVariable(\"x3\",lowBound = 0) # create a variable z>=0\n"
   ]
  },
  {
   "cell_type": "code",
   "execution_count": 13,
   "id": "f34902c1",
   "metadata": {},
   "outputs": [],
   "source": [
    "# Objective function \n",
    "Lp_prob += 20*x1 + 10*x2 + 15*x3"
   ]
  },
  {
   "cell_type": "code",
   "execution_count": 14,
   "id": "b46d2cf3",
   "metadata": {},
   "outputs": [],
   "source": [
    "#Constraints \n",
    "Lp_prob += 3*x1 + 2*x2 + 5*x3 <=55\n",
    "Lp_prob += 2*x1 + 1*x2 + 1*x3 <=26\n",
    "Lp_prob += 1*x1 + 1*x2 + 3*x3 <= 30\n",
    "Lp_prob += 5*x1 + 2*x2 + 4*x3 <= 57"
   ]
  },
  {
   "cell_type": "code",
   "execution_count": 15,
   "id": "92c145e1",
   "metadata": {},
   "outputs": [
    {
     "name": "stdout",
     "output_type": "stream",
     "text": [
      "Problem2:\n",
      "MAXIMIZE\n",
      "20*x1 + 10*x2 + 15*x3 + 0\n",
      "SUBJECT TO\n",
      "_C1: 3 x1 + 2 x2 + 5 x3 <= 55\n",
      "\n",
      "_C2: 2 x1 + x2 + x3 <= 26\n",
      "\n",
      "_C3: x1 + x2 + 3 x3 <= 30\n",
      "\n",
      "_C4: 5 x1 + 2 x2 + 4 x3 <= 57\n",
      "\n",
      "VARIABLES\n",
      "x1 Continuous\n",
      "x2 Continuous\n",
      "x3 Continuous\n",
      "\n"
     ]
    }
   ],
   "source": [
    "print(Lp_prob)"
   ]
  },
  {
   "cell_type": "code",
   "execution_count": 16,
   "id": "e225c3f1",
   "metadata": {},
   "outputs": [
    {
     "name": "stdout",
     "output_type": "stream",
     "text": [
      "Optimal\n"
     ]
    }
   ],
   "source": [
    "status = Lp_prob.solve()\n",
    "print(p.LpStatus[status])"
   ]
  },
  {
   "cell_type": "code",
   "execution_count": 17,
   "id": "47740c29",
   "metadata": {},
   "outputs": [
    {
     "name": "stdout",
     "output_type": "stream",
     "text": [
      "x1 =  1.8\n",
      "x2 =  20.8\n",
      "x3 =  1.6\n",
      "Objective =  268.0\n"
     ]
    }
   ],
   "source": [
    "print(\"x1 = \",p.value(x1))\n",
    "print(\"x2 = \",p.value(x2))\n",
    "print(\"x3 = \",p.value(x3))\n",
    "print(\"Objective = \",p.value(Lp_prob.objective))"
   ]
  },
  {
   "cell_type": "markdown",
   "id": "d70f36f0",
   "metadata": {},
   "source": [
    "# Problem 3"
   ]
  },
  {
   "cell_type": "code",
   "execution_count": 18,
   "id": "1be4e7e0",
   "metadata": {},
   "outputs": [],
   "source": [
    "#Maximization\n",
    "Lp_prob = p.LpProblem('Problem3',p.LpMaximize)"
   ]
  },
  {
   "cell_type": "code",
   "execution_count": 19,
   "id": "8fd29b22",
   "metadata": {},
   "outputs": [],
   "source": [
    "# Decision Variables\n",
    "x1 = p.LpVariable(\"x1\",lowBound = 0,cat = 'Integer') # create a variable x >= 0\n",
    "x2 = p.LpVariable(\"x2\",lowBound = 0 ,cat = 'Integer') # create a variable y >= 0 "
   ]
  },
  {
   "cell_type": "code",
   "execution_count": 20,
   "id": "799f2363",
   "metadata": {},
   "outputs": [],
   "source": [
    "#Objective function \n",
    "Lp_prob += 2*x1 + 3*x2"
   ]
  },
  {
   "cell_type": "code",
   "execution_count": 21,
   "id": "69b4cbe6",
   "metadata": {},
   "outputs": [],
   "source": [
    "#Constraints \n",
    "Lp_prob += 10*x1 + 5*x2 <= 600\n",
    "Lp_prob += 6*x1 + 20*x2 <=600\n",
    "Lp_prob += 8*x1 + 10*x2 <= 600"
   ]
  },
  {
   "cell_type": "code",
   "execution_count": 22,
   "id": "997b4af2",
   "metadata": {},
   "outputs": [
    {
     "name": "stdout",
     "output_type": "stream",
     "text": [
      "Problem3:\n",
      "MAXIMIZE\n",
      "2*x1 + 3*x2 + 0\n",
      "SUBJECT TO\n",
      "_C1: 10 x1 + 5 x2 <= 600\n",
      "\n",
      "_C2: 6 x1 + 20 x2 <= 600\n",
      "\n",
      "_C3: 8 x1 + 10 x2 <= 600\n",
      "\n",
      "VARIABLES\n",
      "0 <= x1 Integer\n",
      "0 <= x2 Integer\n",
      "\n"
     ]
    }
   ],
   "source": [
    "print(Lp_prob)"
   ]
  },
  {
   "cell_type": "code",
   "execution_count": 23,
   "id": "8a97ffb1",
   "metadata": {},
   "outputs": [
    {
     "name": "stdout",
     "output_type": "stream",
     "text": [
      "Optimal\n"
     ]
    }
   ],
   "source": [
    "# Solving the LPP\n",
    "status = Lp_prob.solve()\n",
    "print(p.LpStatus[status])\n"
   ]
  },
  {
   "cell_type": "code",
   "execution_count": 24,
   "id": "bbc9f239",
   "metadata": {},
   "outputs": [
    {
     "name": "stdout",
     "output_type": "stream",
     "text": [
      "x1 =  53.0\n",
      "x2 =  14.0\n",
      "Objective =  148.0\n"
     ]
    }
   ],
   "source": [
    "# Solution\n",
    "print(\"x1 = \",p.value(x1))\n",
    "print(\"x2 = \",p.value(x2))\n",
    "print(\"Objective = \",p.value(Lp_prob.objective))\n"
   ]
  },
  {
   "cell_type": "markdown",
   "id": "95c8b0a0",
   "metadata": {},
   "source": [
    "# Problem 4"
   ]
  },
  {
   "cell_type": "code",
   "execution_count": 25,
   "id": "a8be31cf",
   "metadata": {},
   "outputs": [],
   "source": [
    "#Minimization\n",
    "Lp_prob = p.LpProblem('Brewereis',p.LpMinimize)"
   ]
  },
  {
   "cell_type": "code",
   "execution_count": 26,
   "id": "2662b00a",
   "metadata": {},
   "outputs": [],
   "source": [
    "# Decision Variables \n",
    "x1 = p.LpVariable(\"Solan\",lowBound = 0 ,upBound = 30,cat = 'Integer') # create a variable x>= 0\n",
    "x2 = p.LpVariable(\"Mohan Nagar\",lowBound = 0 ,upBound = 30,cat='Integer') # create a variable y >=0"
   ]
  },
  {
   "cell_type": "code",
   "execution_count": 27,
   "id": "57cd24a1",
   "metadata": {},
   "outputs": [],
   "source": [
    "# Objective Function\n",
    "Lp_prob += 600*x1 + 400*x2"
   ]
  },
  {
   "cell_type": "code",
   "execution_count": 28,
   "id": "75759700",
   "metadata": {},
   "outputs": [],
   "source": [
    "# Constraints \n",
    "Lp_prob += 1500*x1 + 1500*x2 >= 20000\n",
    "Lp_prob += 3000*x1 + 1000*x2 >= 40000\n",
    "Lp_prob += 2000*x1 + 5000*x2 >= 44000"
   ]
  },
  {
   "cell_type": "code",
   "execution_count": 29,
   "id": "118b205f",
   "metadata": {},
   "outputs": [
    {
     "name": "stdout",
     "output_type": "stream",
     "text": [
      "Brewereis:\n",
      "MINIMIZE\n",
      "400*Mohan_Nagar + 600*Solan + 0\n",
      "SUBJECT TO\n",
      "_C1: 1500 Mohan_Nagar + 1500 Solan >= 20000\n",
      "\n",
      "_C2: 1000 Mohan_Nagar + 3000 Solan >= 40000\n",
      "\n",
      "_C3: 5000 Mohan_Nagar + 2000 Solan >= 44000\n",
      "\n",
      "VARIABLES\n",
      "0 <= Mohan_Nagar <= 30 Integer\n",
      "0 <= Solan <= 30 Integer\n",
      "\n"
     ]
    }
   ],
   "source": [
    "print(Lp_prob)"
   ]
  },
  {
   "cell_type": "code",
   "execution_count": 30,
   "id": "627bd5bb",
   "metadata": {},
   "outputs": [
    {
     "name": "stdout",
     "output_type": "stream",
     "text": [
      "Optimal\n"
     ]
    }
   ],
   "source": [
    "# Solving the LPP\n",
    "status = Lp_prob.solve()\n",
    "print(p.LpStatus[status])"
   ]
  },
  {
   "cell_type": "code",
   "execution_count": 31,
   "id": "a24adb7c",
   "metadata": {},
   "outputs": [
    {
     "name": "stdout",
     "output_type": "stream",
     "text": [
      "x1 =  12.0\n",
      "x2 =  4.0\n",
      "Objective =  8800.0\n"
     ]
    }
   ],
   "source": [
    "# Solution \n",
    "print(\"x1 = \",p.value(x1))\n",
    "print(\"x2 = \",p.value(x2))\n",
    "print(\"Objective = \",p.value(Lp_prob.objective))"
   ]
  },
  {
   "cell_type": "markdown",
   "id": "440d6c36",
   "metadata": {},
   "source": [
    "# Problem 5"
   ]
  },
  {
   "cell_type": "code",
   "execution_count": 32,
   "id": "2d14325f",
   "metadata": {},
   "outputs": [],
   "source": [
    "#Maximization\n",
    "Lp_prob = p.LpProblem('Manufacturing',p.LpMaximize)"
   ]
  },
  {
   "cell_type": "code",
   "execution_count": 33,
   "id": "2a9c720f",
   "metadata": {},
   "outputs": [],
   "source": [
    "#Decision Variables\n",
    "x1 = p.LpVariable('A',lowBound = 0,)\n",
    "x2 = p.LpVariable('B',lowBound = 0)"
   ]
  },
  {
   "cell_type": "code",
   "execution_count": 34,
   "id": "ffa494d9",
   "metadata": {},
   "outputs": [],
   "source": [
    "# Objective Function \n",
    "Lp_prob += 40*x1 + 100*x2"
   ]
  },
  {
   "cell_type": "code",
   "execution_count": 35,
   "id": "d8183815",
   "metadata": {},
   "outputs": [],
   "source": [
    "# Constraints\n",
    "Lp_prob += 12*x1 + 6*x2 <= 3000\n",
    "Lp_prob += 4*x1 + 10*x2 <= 2000\n",
    "Lp_prob += 2*x1 + 3*x2 <= 900"
   ]
  },
  {
   "cell_type": "code",
   "execution_count": 36,
   "id": "f8594b34",
   "metadata": {},
   "outputs": [
    {
     "name": "stdout",
     "output_type": "stream",
     "text": [
      "Manufacturing:\n",
      "MAXIMIZE\n",
      "40*A + 100*B + 0\n",
      "SUBJECT TO\n",
      "_C1: 12 A + 6 B <= 3000\n",
      "\n",
      "_C2: 4 A + 10 B <= 2000\n",
      "\n",
      "_C3: 2 A + 3 B <= 900\n",
      "\n",
      "VARIABLES\n",
      "A Continuous\n",
      "B Continuous\n",
      "\n"
     ]
    }
   ],
   "source": [
    "print(Lp_prob)"
   ]
  },
  {
   "cell_type": "code",
   "execution_count": 37,
   "id": "9e392a69",
   "metadata": {},
   "outputs": [
    {
     "name": "stdout",
     "output_type": "stream",
     "text": [
      "Optimal\n"
     ]
    }
   ],
   "source": [
    "# Solving the LPP\n",
    "status = Lp_prob.solve()\n",
    "print(p.LpStatus[status])"
   ]
  },
  {
   "cell_type": "code",
   "execution_count": 38,
   "id": "5732feb9",
   "metadata": {},
   "outputs": [
    {
     "name": "stdout",
     "output_type": "stream",
     "text": [
      "x1 = 0.0\n",
      "x2 = 200.0\n",
      "Objective =  20000.0\n"
     ]
    }
   ],
   "source": [
    "print(\"x1 =\", p.value(x1)) \n",
    "print(\"x2 =\", p.value(x2))\n",
    "print(\"Objective = \", p.value(Lp_prob.objective))"
   ]
  },
  {
   "cell_type": "markdown",
   "id": "1587394b",
   "metadata": {},
   "source": [
    "# #Problem 6"
   ]
  },
  {
   "cell_type": "code",
   "execution_count": 39,
   "id": "13a10899",
   "metadata": {},
   "outputs": [],
   "source": [
    "# Minimization \n",
    "Lp_prob = p.LpProblem('Shampoos', p.LpMinimize)"
   ]
  },
  {
   "cell_type": "code",
   "execution_count": 40,
   "id": "1ad7d9f0",
   "metadata": {},
   "outputs": [],
   "source": [
    "# Decision Variables \n",
    "x1 = p.LpVariable(\"Plant I\", lowBound = 0,upBound = 30 , cat='Integer') # Create a variable x >= 0\n",
    "x2 = p.LpVariable(\"Plant II\", lowBound = 0, upBound = 30, cat='Integer') # Create a variable y >= 0"
   ]
  },
  {
   "cell_type": "code",
   "execution_count": 41,
   "id": "00eb3647",
   "metadata": {},
   "outputs": [],
   "source": [
    "# Objective Function \n",
    "Lp_prob += 600*x1 + 400*x2"
   ]
  },
  {
   "cell_type": "code",
   "execution_count": 42,
   "id": "051883d7",
   "metadata": {},
   "outputs": [],
   "source": [
    "# Constraints \n",
    "Lp_prob += 3000*x1 + 1000*x2 >= 24000\n",
    "Lp_prob += 1000*x1 + 1000*x2 >= 16000\n",
    "Lp_prob += 2000*x1 + 6000*x2 >= 48000"
   ]
  },
  {
   "cell_type": "code",
   "execution_count": 43,
   "id": "cbd4662d",
   "metadata": {},
   "outputs": [
    {
     "name": "stdout",
     "output_type": "stream",
     "text": [
      "Shampoos:\n",
      "MINIMIZE\n",
      "600*Plant_I + 400*Plant_II + 0\n",
      "SUBJECT TO\n",
      "_C1: 3000 Plant_I + 1000 Plant_II >= 24000\n",
      "\n",
      "_C2: 1000 Plant_I + 1000 Plant_II >= 16000\n",
      "\n",
      "_C3: 2000 Plant_I + 6000 Plant_II >= 48000\n",
      "\n",
      "VARIABLES\n",
      "0 <= Plant_I <= 30 Integer\n",
      "0 <= Plant_II <= 30 Integer\n",
      "\n"
     ]
    }
   ],
   "source": [
    "print(Lp_prob)"
   ]
  },
  {
   "cell_type": "code",
   "execution_count": 44,
   "id": "3e269375",
   "metadata": {},
   "outputs": [
    {
     "name": "stdout",
     "output_type": "stream",
     "text": [
      "Optimal\n"
     ]
    }
   ],
   "source": [
    "# Solving the LPP\n",
    "status = Lp_prob.solve()\n",
    "print(p.LpStatus[status])"
   ]
  },
  {
   "cell_type": "code",
   "execution_count": 45,
   "id": "a3ef351b",
   "metadata": {},
   "outputs": [
    {
     "name": "stdout",
     "output_type": "stream",
     "text": [
      "x1 = 4.0\n",
      "x2 = 12.0\n",
      "Objective =  7200.0\n"
     ]
    }
   ],
   "source": [
    "# Solution \n",
    "print(\"x1 =\", p.value(x1)) \n",
    "print(\"x2 =\", p.value(x2))\n",
    "print(\"Objective = \", p.value(Lp_prob.objective))"
   ]
  },
  {
   "cell_type": "markdown",
   "id": "76a7a1b2",
   "metadata": {},
   "source": [
    "# Problem 7"
   ]
  },
  {
   "cell_type": "code",
   "execution_count": 46,
   "id": "cc972a03",
   "metadata": {},
   "outputs": [
    {
     "name": "stdout",
     "output_type": "stream",
     "text": [
      "Florist:\n",
      "MAXIMIZE\n",
      "20*T1 + 58*T2 + 39*T3 + 0\n",
      "SUBJECT TO\n",
      "_C1: 3 T1 + 2 T2 + 5 T3 <= 540\n",
      "\n",
      "_C2: 2 T1 + 4 T2 <= 320\n",
      "\n",
      "_C3: 2 T1 + T2 + 2 T3 <= 106\n",
      "\n",
      "_C4: 4 T1 + 3 T2 + 4 T3 <= 273\n",
      "\n",
      "VARIABLES\n",
      "0 <= T1 Integer\n",
      "0 <= T2 Integer\n",
      "0 <= T3 Integer\n",
      "\n"
     ]
    }
   ],
   "source": [
    "Lp_prob = p.LpProblem('Florist', p.LpMaximize)\n",
    "x1 = p.LpVariable(\"T1\", lowBound = 0, cat='Integer' )\n",
    "x2 = p.LpVariable(\"T2\", lowBound = 0, cat='Integer')\n",
    "x3 = p.LpVariable(\"T3\", lowBound = 0, cat='Integer')\n",
    "Lp_prob += 20*x1 + 58*x2 + 39*x3\n",
    "Lp_prob += 3*x1 + 2*x2 + 5*x3 <= 540\n",
    "Lp_prob += 2*x1 + 4*x2 + 0*x3 <= 320\n",
    "Lp_prob += 2*x1 + x2 + 2*x3 <= 106\n",
    "Lp_prob += 4*x1 + 3*x2 + 4*x3 <= 273\n",
    "print(Lp_prob)"
   ]
  },
  {
   "cell_type": "code",
   "execution_count": 47,
   "id": "7ee5455b",
   "metadata": {},
   "outputs": [
    {
     "name": "stdout",
     "output_type": "stream",
     "text": [
      "Optimal\n"
     ]
    }
   ],
   "source": [
    "status = Lp_prob.solve()\n",
    "print(p.LpStatus[status])"
   ]
  },
  {
   "cell_type": "code",
   "execution_count": 48,
   "id": "bc63db90",
   "metadata": {},
   "outputs": [
    {
     "name": "stdout",
     "output_type": "stream",
     "text": [
      "T1 = 0.0\n",
      "T2 = 80.0\n",
      "T3 = 8.0\n",
      "Objective =  4952.0\n"
     ]
    }
   ],
   "source": [
    "print(\"T1 =\", p.value(x1)) \n",
    "print(\"T2 =\", p.value(x2))\n",
    "print(\"T3 =\", p.value(x3))\n",
    "print(\"Objective = \", p.value(Lp_prob.objective))"
   ]
  },
  {
   "cell_type": "markdown",
   "id": "dc9f324b",
   "metadata": {},
   "source": [
    "# Problem 8"
   ]
  },
  {
   "cell_type": "code",
   "execution_count": 49,
   "id": "5cc6ac49",
   "metadata": {},
   "outputs": [
    {
     "name": "stdout",
     "output_type": "stream",
     "text": [
      "Valencia:\n",
      "MAXIMIZE\n",
      "124*LaserStop + 136*SpeedBuster + 0\n",
      "SUBJECT TO\n",
      "_C1: 18 LaserStop + 12 SpeedBuster <= 4000\n",
      "\n",
      "_C2: 6 LaserStop + 8 SpeedBuster <= 3500\n",
      "\n",
      "VARIABLES\n",
      "0 <= LaserStop Integer\n",
      "0 <= SpeedBuster Integer\n",
      "\n"
     ]
    }
   ],
   "source": [
    "Lp_prob = p.LpProblem('Valencia', p.LpMaximize)\n",
    "x1 = p.LpVariable(\"LaserStop\", lowBound = 0, cat='Integer' )\n",
    "x2 = p.LpVariable(\"SpeedBuster\", lowBound = 0, cat='Integer')\n",
    "Lp_prob += 124*x1 + 136*x2\n",
    "Lp_prob += 18*x1 + 12*x2 <= 4000\n",
    "Lp_prob += 6*x1 + 8*x2 <= 3500\n",
    "print(Lp_prob)"
   ]
  },
  {
   "cell_type": "code",
   "execution_count": 50,
   "id": "9b927c30",
   "metadata": {},
   "outputs": [
    {
     "name": "stdout",
     "output_type": "stream",
     "text": [
      "Optimal\n"
     ]
    }
   ],
   "source": [
    "status = Lp_prob.solve()\n",
    "print(p.LpStatus[status])"
   ]
  },
  {
   "cell_type": "code",
   "execution_count": 51,
   "id": "4cf4fb27",
   "metadata": {},
   "outputs": [
    {
     "name": "stdout",
     "output_type": "stream",
     "text": [
      "LaserStop = 0.0\n",
      "SpeedBuster = 333.0\n",
      "Objective =  45288.0\n"
     ]
    }
   ],
   "source": [
    "print(\"LaserStop =\", p.value(x1)) \n",
    "print(\"SpeedBuster =\", p.value(x2))\n",
    "print(\"Objective = \", p.value(Lp_prob.objective))"
   ]
  },
  {
   "cell_type": "markdown",
   "id": "f0e5b8fd",
   "metadata": {},
   "source": [
    "# Problem 9"
   ]
  },
  {
   "cell_type": "code",
   "execution_count": 52,
   "id": "16a227ab",
   "metadata": {},
   "outputs": [
    {
     "name": "stdout",
     "output_type": "stream",
     "text": [
      "PaperMill:\n",
      "MAXIMIZE\n",
      "30*X + 40*Y + 20*Z + 0\n",
      "SUBJECT TO\n",
      "_C1: 10 X + 12 Y + 7 Z <= 100000\n",
      "\n",
      "VARIABLES\n",
      "X Continuous\n",
      "Y Continuous\n",
      "Z Continuous\n",
      "\n"
     ]
    }
   ],
   "source": [
    "Lp_prob = p.LpProblem('PaperMill', p.LpMaximize)\n",
    "x1 = p.LpVariable(\"X\", lowBound = 0)\n",
    "x2 = p.LpVariable(\"Y\", lowBound = 0)\n",
    "x3 = p.LpVariable(\"Z\", lowBound = 0)\n",
    "\n",
    "Lp_prob += 30*x1 + 40*x2 + 20*x3\n",
    "Lp_prob += 10*x1 + 12*x2 + 7*x3 <= 100000\n",
    "print(Lp_prob)"
   ]
  },
  {
   "cell_type": "code",
   "execution_count": 53,
   "id": "37b51412",
   "metadata": {},
   "outputs": [
    {
     "name": "stdout",
     "output_type": "stream",
     "text": [
      "Optimal\n"
     ]
    }
   ],
   "source": [
    "status = Lp_prob.solve()\n",
    "print(p.LpStatus[status])"
   ]
  },
  {
   "cell_type": "code",
   "execution_count": 54,
   "id": "6b06a6c9",
   "metadata": {},
   "outputs": [
    {
     "name": "stdout",
     "output_type": "stream",
     "text": [
      "X = 0.0\n",
      "Y = 8333.3333\n",
      "Z = 0.0\n",
      "Objective =  333333.332\n"
     ]
    }
   ],
   "source": [
    "print(\"X =\", p.value(x1)) \n",
    "print(\"Y =\", p.value(x2))\n",
    "print(\"Z =\", p.value(x3))\n",
    "print(\"Objective = \", p.value(Lp_prob.objective))"
   ]
  },
  {
   "cell_type": "code",
   "execution_count": null,
   "id": "65e02b0b",
   "metadata": {},
   "outputs": [],
   "source": []
  }
 ],
 "metadata": {
  "kernelspec": {
   "display_name": "Python 3 (ipykernel)",
   "language": "python",
   "name": "python3"
  },
  "language_info": {
   "codemirror_mode": {
    "name": "ipython",
    "version": 3
   },
   "file_extension": ".py",
   "mimetype": "text/x-python",
   "name": "python",
   "nbconvert_exporter": "python",
   "pygments_lexer": "ipython3",
   "version": "3.11.3"
  }
 },
 "nbformat": 4,
 "nbformat_minor": 5
}
