{
 "cells": [
  {
   "cell_type": "code",
   "execution_count": 1,
   "id": "f11cf6c5",
   "metadata": {},
   "outputs": [],
   "source": [
    "#binomial "
   ]
  },
  {
   "cell_type": "code",
   "execution_count": 2,
   "id": "c373bb14",
   "metadata": {},
   "outputs": [
    {
     "data": {
      "text/plain": [
       "0.027231742753245948"
      ]
     },
     "execution_count": 2,
     "metadata": {},
     "output_type": "execute_result"
    }
   ],
   "source": [
    "from scipy.stats import binom\n",
    "binom.pmf(5,40,0.25)"
   ]
  },
  {
   "cell_type": "code",
   "execution_count": null,
   "id": "917ad962",
   "metadata": {},
   "outputs": [],
   "source": []
  }
 ],
 "metadata": {
  "kernelspec": {
   "display_name": "Python 3 (ipykernel)",
   "language": "python",
   "name": "python3"
  },
  "language_info": {
   "codemirror_mode": {
    "name": "ipython",
    "version": 3
   },
   "file_extension": ".py",
   "mimetype": "text/x-python",
   "name": "python",
   "nbconvert_exporter": "python",
   "pygments_lexer": "ipython3",
   "version": "3.11.3"
  }
 },
 "nbformat": 4,
 "nbformat_minor": 5
}
